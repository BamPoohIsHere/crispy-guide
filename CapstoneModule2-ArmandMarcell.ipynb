{
 "cells": [
  {
   "cell_type": "markdown",
   "metadata": {
    "id": "ANhAFjMrc46Z"
   },
   "source": [
    "# Latar Belakang\n",
    "A fictitious SaaS company wants to improve their profits primarily by increasing their profits in areas / industries that are underperforming. The company wants a concrete step they can make to better their profits in these underperforming areas to maximize their overall profits.\n"
   ]
  },
  {
   "cell_type": "markdown",
   "metadata": {
    "id": "6mjDpIeUc46e"
   },
   "source": [
    "## Pernyataan Masalah\n",
    "- Correctly Identify problem areas/industries that the company is currently facing.\n",
    "\n",
    "- Construct a concrete action that is concluded from data-driven insights.\n",
    "\n",
    "- Maximizing Profit"
   ]
  },
  {
   "cell_type": "markdown",
   "metadata": {},
   "source": [
    "#### Data Handling -- Missing Values"
   ]
  },
  {
   "cell_type": "code",
   "execution_count": 1,
   "metadata": {
    "id": "QXhgagJ-c46m"
   },
   "outputs": [
    {
     "name": "stdout",
     "output_type": "stream",
     "text": [
      "Missing values per column:\n",
      "Row ID          0\n",
      "Order ID        0\n",
      "Order Date      0\n",
      "Date Key        0\n",
      "Contact Name    0\n",
      "Country         0\n",
      "City            0\n",
      "Region          0\n",
      "Subregion       0\n",
      "Customer        0\n",
      "Customer ID     0\n",
      "Industry        0\n",
      "Segment         0\n",
      "Product         0\n",
      "License         0\n",
      "Sales           0\n",
      "Quantity        0\n",
      "Discount        0\n",
      "Profit          0\n",
      "dtype: int64\n"
     ]
    }
   ],
   "source": [
    "import pandas as pd\n",
    "import numpy as np\n",
    "\n",
    "df = pd.read_csv('SaaS-Sales.csv')\n",
    "\n",
    "print(\"Missing values per column:\")\n",
    "print(df.isnull().sum())"
   ]
  },
  {
   "cell_type": "markdown",
   "metadata": {},
   "source": [
    "No Missing Values"
   ]
  },
  {
   "cell_type": "markdown",
   "metadata": {},
   "source": [
    "#### Data Handling -- Outliers"
   ]
  },
  {
   "cell_type": "code",
   "execution_count": 2,
   "metadata": {
    "id": "6sZFj9dRc46p",
    "outputId": "3d5dc369-cdce-42f6-dc16-0932ce1c52e9"
   },
   "outputs": [
    {
     "data": {
      "image/png": "[encoded data removed]",
      "text/plain": [
       "<Figure size 640x480 with 1 Axes>"
      ]
     },
     "metadata": {},
     "output_type": "display_data"
    }
   ],
   "source": [
    "import seaborn as sns\n",
    "import matplotlib.pyplot as plt\n",
    "\n",
    "sns.boxplot(x=df['Profit'])\n",
    "plt.show()"
   ]
  },
  {
   "cell_type": "markdown",
   "metadata": {},
   "source": [
    "##### Removing outliers"
   ]
  },
  {
   "cell_type": "code",
   "execution_count": 3,
   "metadata": {},
   "outputs": [
    {
     "data": {
      "image/png": "[encoded data removed]",
      "text/plain": [
       "<Figure size 640x480 with 1 Axes>"
      ]
     },
     "metadata": {},
     "output_type": "display_data"
    }
   ],
   "source": [
    "lower_bound = -6000\n",
    "upper_bound = 6000\n",
    "\n",
    "df_cleaned = df[(df['Profit'] >= lower_bound) & (df['Profit'] <= upper_bound)]\n",
    "\n",
    "sns.boxplot(x=df_cleaned['Profit'])\n",
    "plt.show()\n",
    "\n",
    "df = df_cleaned"
   ]
  },
  {
   "cell_type": "markdown",
   "metadata": {
    "id": "aN-8ts-oc46w",
    "outputId": "55e70ad9-a522-48ae-dc6f-e2572494d832"
   },
   "source": [
    "#### Data handling -- Duplications"
   ]
  },
  {
   "cell_type": "code",
   "execution_count": 4,
   "metadata": {
    "id": "3wV_h8y8c460",
    "outputId": "3b219b9f-b6b0-46ce-b2e9-e81093da9eaa"
   },
   "outputs": [
    {
     "name": "stdout",
     "output_type": "stream",
     "text": [
      "Empty DataFrame\n",
      "Columns: [Row ID, Order ID, Order Date, Date Key, Contact Name, Country, City, Region, Subregion, Customer, Customer ID, Industry, Segment, Product, License, Sales, Quantity, Discount, Profit]\n",
      "Index: []\n"
     ]
    }
   ],
   "source": [
    "duplicate_rows = df[df.duplicated()]\n",
    "\n",
    "print(duplicate_rows)"
   ]
  },
  {
   "cell_type": "markdown",
   "metadata": {
    "id": "Ca2rvYFGc462",
    "outputId": "f8ceda16-b6d9-4925-e215-1cdd8689e089"
   },
   "source": [
    "#### Data Handling -- Formatting"
   ]
  },
  {
   "cell_type": "code",
   "execution_count": 5,
   "metadata": {
    "id": "0Zj8Cq3Kc464"
   },
   "outputs": [
    {
     "name": "stdout",
     "output_type": "stream",
     "text": [
      "Data Formatting Complete\n"
     ]
    }
   ],
   "source": [
    "df['Order Date'] = pd.to_datetime(df['Order Date'], errors='coerce')\n",
    "\n",
    "string_cols = ['Country', 'City', 'Region', 'Subregion', 'Customer', 'Industry', 'Segment', 'Product']\n",
    "for col in string_cols:\n",
    "    df[col] = df[col].astype(str).str.strip().str.title()\n",
    "\n",
    "df['License'] = df['License'].astype(str).str.strip().str.upper()\n",
    "df['Order ID'] = df['Order ID'].astype(str).str.strip().str.upper()\n",
    "\n",
    "df.columns = df.columns.str.strip().str.lower().str.replace(' ', '_')\n",
    "\n",
    "df['sales'] = df['sales'].round(2)\n",
    "df['profit'] = df['profit'].round(2)\n",
    "\n",
    "print(\"Data Formatting Complete\")"
   ]
  },
  {
   "cell_type": "markdown",
   "metadata": {},
   "source": [
    "#### Data Handling -- Misc"
   ]
  },
  {
   "cell_type": "code",
   "execution_count": 6,
   "metadata": {},
   "outputs": [
    {
     "name": "stdout",
     "output_type": "stream",
     "text": [
      "Number of rows where profit > sales: 0\n",
      "Empty DataFrame\n",
      "Columns: [order_id, product, sales, profit]\n",
      "Index: []\n"
     ]
    }
   ],
   "source": [
    "df_anomaly = df[df['profit'] > df['sales']]\n",
    "\n",
    "print(\"Number of rows where profit > sales:\", len(df_anomaly))\n",
    "print(df_anomaly[['order_id', 'product', 'sales', 'profit']])"
   ]
  },
  {
   "cell_type": "code",
   "execution_count": 7,
   "metadata": {},
   "outputs": [
    {
     "name": "stdout",
     "output_type": "stream",
     "text": [
      "Unique Regions:\n",
      "['Emea' 'Amer' 'Apj']\n",
      "Unique Subregions:\n",
      "['Ukir' 'Namer' 'Eu-West' 'Nor' 'Japn' 'Eu' 'Mea' 'Latam' 'Anz' 'Apac'\n",
      " 'Ind' 'Eu-East']\n",
      "Unique Countries:\n",
      "['Ireland' 'United States' 'Germany' 'Sweden' 'Canada' 'Japan' 'Italy'\n",
      " 'Turkey' 'Costa Rica' 'France' 'Australia' 'Luxembourg' 'Brazil'\n",
      " 'Philippines' 'India' 'United Kingdom' 'Chile' 'Spain' 'South Africa'\n",
      " 'Portugal' 'Colombia' 'Belgium' 'Russia' 'Netherlands' 'Mexico' 'Poland'\n",
      " 'Singapore' 'New Zealand' 'Czech Republic' 'Saudi Arabia' 'Argentina'\n",
      " 'South Korea' 'Finland' 'Israel' 'Norway' 'Ukraine'\n",
      " 'United Arab Emirates' 'Greece' 'China' 'Austria' 'Indonesia' 'Egypt'\n",
      " 'Denmark' 'Croatia' 'Taiwan' 'Qatar' 'Slovenia' 'Iceland']\n"
     ]
    }
   ],
   "source": [
    "print(\"Unique Regions:\")\n",
    "print(df['region'].unique())\n",
    "\n",
    "print(\"Unique Subregions:\")\n",
    "print(df['subregion'].unique())\n",
    "\n",
    "print(\"Unique Countries:\")\n",
    "print(df['country'].unique())"
   ]
  },
  {
   "cell_type": "markdown",
   "metadata": {},
   "source": [
    "##### Fixing Regions and Subregions into clearer words"
   ]
  },
  {
   "cell_type": "code",
   "execution_count": 8,
   "metadata": {},
   "outputs": [
    {
     "name": "stdout",
     "output_type": "stream",
     "text": [
      "Countries under 'Eu': ['Italy']\n"
     ]
    }
   ],
   "source": [
    "eu_countries = df[df['subregion'] == 'Eu']['country'].unique()\n",
    "\n",
    "print(\"Countries under 'Eu':\", eu_countries)"
   ]
  },
  {
   "cell_type": "code",
   "execution_count": 9,
   "metadata": {},
   "outputs": [
    {
     "name": "stdout",
     "output_type": "stream",
     "text": [
      "Cleaned Regions: ['EMEA' 'AMER' 'APAC']\n",
      "Cleaned Subregions: ['UK & Ireland' 'North America' 'Europe West' 'Nordics' 'Japan'\n",
      " 'Middle East & Africa' 'Latin America' 'Australia & New Zealand'\n",
      " 'Asia Pacific' 'India' 'Europe East']\n"
     ]
    }
   ],
   "source": [
    "region_map = {\n",
    "    'Emea': 'EMEA',\n",
    "    'Amer': 'AMER',\n",
    "    'Apj': 'APAC'\n",
    "}\n",
    "\n",
    "subregion_map = {\n",
    "    'Ukir': 'UK & Ireland',\n",
    "    'Namer': 'North America',\n",
    "    'Eu-West': 'Europe West',\n",
    "    'Eu-East': 'Europe East',\n",
    "    'Eu': 'Europe West',\n",
    "    'Nor': 'Nordics',\n",
    "    'Japn': 'Japan',\n",
    "    'Mea': 'Middle East & Africa',\n",
    "    'Latam': 'Latin America',\n",
    "    'Anz': 'Australia & New Zealand',\n",
    "    'Apac': 'Asia Pacific',\n",
    "    'Ind': 'India'\n",
    "}\n",
    "\n",
    "df['region'] = df['region'].map(region_map).fillna(df['region'])\n",
    "df['subregion'] = df['subregion'].map(subregion_map).fillna(df['subregion'])\n",
    "\n",
    "print(\"Cleaned Regions:\", df['region'].unique())\n",
    "print(\"Cleaned Subregions:\", df['subregion'].unique())"
   ]
  },
  {
   "cell_type": "markdown",
   "metadata": {},
   "source": [
    "#### Uploading Data --> To be analyzed in Tableau and Excel"
   ]
  },
  {
   "cell_type": "code",
   "execution_count": 10,
   "metadata": {},
   "outputs": [],
   "source": [
    "df.to_csv('cleaned_data.csv', index=False)"
   ]
  }
 ],
 "metadata": {
  "colab": {
   "name": "capstone modul 2 contoh notebook.ipynb",
   "provenance": [],
   "toc_visible": true
  },
  "interpreter": {
   "hash": "80958af0b2c7e30a8333934f9c7842f006b76b43d0e26bb185679ef48b27f628"
  },
  "kernelspec": {
   "display_name": "Python [conda env:base] *",
   "language": "python",
   "name": "conda-base-py"
  },
  "language_info": {
   "codemirror_mode": {
    "name": "ipython",
    "version": 3
   },
   "file_extension": ".py",
   "mimetype": "text/x-python",
   "name": "python",
   "nbconvert_exporter": "python",
   "pygments_lexer": "ipython3",
   "version": "3.13.5"
  }
 },
 "nbformat": 4,
 "nbformat_minor": 4
}
